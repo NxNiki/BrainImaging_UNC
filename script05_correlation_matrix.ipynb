{
 "cells": [
  {
   "cell_type": "code",
   "execution_count": 8,
   "id": "302f2a4e-7f44-4272-981c-851a58156bd2",
   "metadata": {},
   "outputs": [],
   "source": [
    "import pandas as pd\n",
    "import numpy as np\n",
    "import glob\n",
    "import os\n",
    "import seaborn as sns\n",
    "import matplotlib.pyplot as plt\n",
    "\n",
    "# import re"
   ]
  },
  {
   "cell_type": "code",
   "execution_count": 9,
   "id": "b09e90a2-0256-4ba6-97fc-c6a15db0bd20",
   "metadata": {},
   "outputs": [
    {
     "name": "stdout",
     "output_type": "stream",
     "text": [
      "3\n",
      "out04_adni_roi_signals6/roi_signals_power264_sub-036_S_4538-ses-2020-09-14_10_31_17.0.txt\n",
      "(750, 264)\n",
      "out04_adni_roi_signals6/roi_signals_power264_sub-036_S_2380-ses-2019-06-05_10_20_37.0.txt\n",
      "(750, 264)\n",
      "out04_adni_roi_signals6/roi_signals_power264_sub-036_S_2380-ses-2021-01-12_12_22_35.0.txt\n",
      "(750, 264)\n"
     ]
    }
   ],
   "source": [
    "\n",
    "input_dir = 'out04_adni_roi_signals6'\n",
    "output_dir = 'out05_adni_corr_matrix6'\n",
    "\n",
    "files = glob.glob(input_dir + '/roi_signals_power264*.txt')\n",
    "print(len(files))\n",
    "\n",
    "if not os.path.isdir(output_dir):\n",
    "    os.mkdir(output_dir)\n",
    "\n",
    "for f in files:\n",
    "    print(f)\n",
    "    roi_signals = pd.read_csv(f, sep='\\t')\n",
    "    #roi_signals = pd.read_csv(f, sep=',', header = None)\n",
    "    roi_signals.drop(columns = ['Unnamed: 264'], inplace = True)\n",
    "    roi_signals.columns = roi_signals.columns.astype(int)\n",
    "    roi_signals = roi_signals.sort_index(ascending=True, axis=1)\n",
    "    print(roi_signals.shape)\n",
    "    \n",
    "    corr_mat = roi_signals.corr(method = 'pearson', min_periods = 100)\n",
    "    #print(corr_mat)\n",
    "    \n",
    "    file_name = f.split('/')\n",
    "    out_fname = output_dir + '/' + file_name[1].replace('roi_signals', 'corr_matrix')\n",
    "    #print(out_fname)\n",
    "    \n",
    "    corr_mat.to_csv(out_fname, index = False, columns = None)\n",
    "    \n",
    "    fig, ax = plt.subplots()\n",
    "    ax = sns.heatmap(corr_mat)\n",
    "    fig_name = out_fname.replace('.txt', '.png')\n",
    "    plt.savefig(fig_name)\n",
    "    plt.close('all')\n",
    "    \n",
    "    \n"
   ]
  },
  {
   "cell_type": "code",
   "execution_count": null,
   "id": "42460dc2-8979-4211-bd3e-18d9eb699e34",
   "metadata": {},
   "outputs": [],
   "source": []
  }
 ],
 "metadata": {
  "kernelspec": {
   "display_name": "Python 3 (ipykernel)",
   "language": "python",
   "name": "python3"
  },
  "language_info": {
   "codemirror_mode": {
    "name": "ipython",
    "version": 3
   },
   "file_extension": ".py",
   "mimetype": "text/x-python",
   "name": "python",
   "nbconvert_exporter": "python",
   "pygments_lexer": "ipython3",
   "version": "3.8.12"
  }
 },
 "nbformat": 4,
 "nbformat_minor": 5
}
